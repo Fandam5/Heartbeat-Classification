{
 "cells": [
  {
   "cell_type": "code",
   "execution_count": null,
   "id": "1fc1b643",
   "metadata": {},
   "outputs": [],
   "source": [
    "import pandas as pd\n",
    "import os\n",
    "import librosa\n",
    "\n",
    "import pyaudio\n",
    "import wave\n",
    "import matplotlib.pyplot as plt\n",
    "\n",
    "\n",
    "import os\n",
    "import glob\n",
    "import numpy as np\n",
    "from tqdm import tqdm\n",
    "import itertools\n",
    "\n",
    "\n",
    "import numpy as np\n",
    "from tqdm import tqdm\n",
    "\n",
    "\n",
    "from sklearn.preprocessing import LabelEncoder\n",
    "from sklearn.model_selection import train_test_split\n",
    "from sklearn import metrics\n",
    "from sklearn.utils import shuffle\n",
    "\n",
    "from tensorflow.keras.utils import to_categorical\n",
    "import tensorflow as tf\n",
    "from tensorflow.keras.models import Sequential\n",
    "from tensorflow.keras.layers import Dense,Dropout,Activation,Flatten\n",
    "from tensorflow.keras.optimizers import Adam\n",
    "from tensorflow.keras.callbacks import ModelCheckpoint\n"
   ]
  },
  {
   "cell_type": "code",
   "execution_count": null,
   "id": "f560aeb1",
   "metadata": {},
   "outputs": [],
   "source": [
    "dataset_path='dataset/audio/'\n",
    "metada_path=pd.read_csv('dataset/metadata/metafile.csv')"
   ]
  },
  {
   "cell_type": "code",
   "execution_count": null,
   "id": "048e378f",
   "metadata": {},
   "outputs": [],
   "source": [
    "def features_extractor(file):\n",
    "    y, sr = librosa.load(file_name, duration=4)\n",
    "    mfccs = librosa.feature.mfcc(y=y, sr=sr, n_mfcc=40)\n",
    "    return mfccs"
   ]
  },
  {
   "cell_type": "code",
   "execution_count": null,
   "id": "ae13e23b",
   "metadata": {},
   "outputs": [],
   "source": [
    "extracted_features=[]\n",
    "for folder in dataset_path:\n",
    "    for filename in glob.iglob(folder):\n",
    "        if os.path.exists(filename):\n",
    "            label = os.path.basename(filename).split(\"_\")[0]\n",
    "            # skip audio smaller than 4 secs\n",
    "            if librosa.get_duration(filename=filename)>=4:\n",
    "                if label not in [\"Aunlabelledtest\", \"Bunlabelledtest\"]:\n",
    "                    \"filename\": filename,\n",
    "                    \"label\": label\n",
    "                    data=features_extractor(file_name)\n",
    "                    extracted_features.append([data, label])"
   ]
  },
  {
   "cell_type": "code",
   "execution_count": null,
   "id": "f830919e",
   "metadata": {},
   "outputs": [],
   "source": [
    "extracted_features_df=pd.DataFrame(extracted_features,columns=['feature','label'])\n",
    "extracted_features_df.head()"
   ]
  },
  {
   "cell_type": "code",
   "execution_count": null,
   "id": "b88e498b",
   "metadata": {},
   "outputs": [],
   "source": [
    "X=np.array(extracted_features_df['feature'].tolist())\n",
    "y=np.array(extracted_features_df['label'].tolist())"
   ]
  },
  {
   "cell_type": "code",
   "execution_count": null,
   "id": "e6c32b0a",
   "metadata": {},
   "outputs": [],
   "source": [
    "labelencoder=LabelEncoder()\n",
    "y=to_categorical(labelencoder.fit_transform(y))"
   ]
  },
  {
   "cell_type": "code",
   "execution_count": null,
   "id": "632251c1",
   "metadata": {},
   "outputs": [],
   "source": [
    "X_train,X_test,y_train,y_test=train_test_split(X,y,test_size=0.2,random_state=0)"
   ]
  },
  {
   "cell_type": "code",
   "execution_count": null,
   "id": "e9a704f8",
   "metadata": {},
   "outputs": [],
   "source": [
    "model=Sequential()\n",
    "###first layer\n",
    "model.add(Dense(100,input_shape=(40,)))\n",
    "model.add(Activation('relu'))\n",
    "model.add(Dropout(0.5))\n",
    "###second layer\n",
    "model.add(Dense(200))\n",
    "model.add(Activation('relu'))\n",
    "model.add(Dropout(0.5))\n",
    "###third layer\n",
    "model.add(Dense(100))\n",
    "model.add(Activation('relu'))\n",
    "model.add(Dropout(0.5))\n",
    "\n",
    "###final layer\n",
    "model.add(Dense(num_labels))\n",
    "model.add(Activation('softmax'))"
   ]
  },
  {
   "cell_type": "code",
   "execution_count": null,
   "id": "bf1aeb53",
   "metadata": {},
   "outputs": [],
   "source": [
    "model.compile(loss='categorical_crossentropy',metrics=['accuracy'],optimizer='adam')"
   ]
  },
  {
   "cell_type": "code",
   "execution_count": null,
   "id": "ba378ff5",
   "metadata": {},
   "outputs": [],
   "source": [
    "num_epochs = 100\n",
    "num_batch_size = 32\n",
    "\n",
    "checkpointer = ModelCheckpoint(filepath='saved_models/audio_classification.hdf5', \n",
    "                               verbose=1, save_best_only=True)\n",
    "start = datetime.now()\n",
    "\n",
    "model.fit(X_train, y_train, batch_size=num_batch_size, epochs=num_epochs, validation_data=(X_test, y_test), callbacks=[checkpointer], verbose=1)\n",
    "\n",
    "\n",
    "duration = datetime.now() - start\n",
    "print(\"Training completed in time: \", duration)"
   ]
  },
  {
   "cell_type": "code",
   "execution_count": null,
   "id": "f13113c9",
   "metadata": {},
   "outputs": [],
   "source": [
    "test_accuracy=model.evaluate(X_test,y_test,verbose=0)\n",
    "print(test_accuracy[1])"
   ]
  },
  {
   "cell_type": "code",
   "execution_count": null,
   "id": "945fc3cc",
   "metadata": {},
   "outputs": [],
   "source": [
    "#predict classes\n",
    "np.argmax(model.predict(X_test),axis=1)"
   ]
  },
  {
   "cell_type": "code",
   "execution_count": null,
   "id": "024d9958",
   "metadata": {},
   "outputs": [],
   "source": [
    "#Record Live Data\n",
    "\n",
    "FRAMES_PER_BUFFER = 3200\n",
    "FORMAT = pyaudio.paInt16\n",
    "CHANNELS = 1\n",
    "RATE = 16000\n",
    "\n",
    "pa = pyaudio.PyAudio()\n",
    "\n",
    "stream = pa.open(\n",
    "    format=FORMAT,\n",
    "    channels=CHANNELS,\n",
    "    rate=RATE,\n",
    "    input=True,\n",
    "    frames_per_buffer=FRAMES_PER_BUFFER\n",
    ")\n",
    "\n",
    "print('start recording')\n",
    "\n",
    "seconds = 8\n",
    "frames = []\n",
    "second_tracking = 0\n",
    "second_count = 0\n",
    "for i in range(0, int(RATE/FRAMES_PER_BUFFER*seconds)):\n",
    "    data = stream.read(FRAMES_PER_BUFFER)\n",
    "    frames.append(data)\n",
    "    second_tracking += 1\n",
    "    if second_tracking == RATE/FRAMES_PER_BUFFER:\n",
    "        second_count += 1\n",
    "        second_tracking = 0\n",
    "        print(f'Time Left: {seconds - second_count} seconds')"
   ]
  },
  {
   "cell_type": "code",
   "execution_count": null,
   "id": "0f1bf181",
   "metadata": {},
   "outputs": [],
   "source": [
    "stream.stop_stream()\n",
    "stream.close()\n",
    "pa.terminate()\n",
    "\n",
    "obj = wave.open('record_1000.wav', 'wb')\n",
    "obj.setnchannels(CHANNELS)\n",
    "obj.setsampwidth(pa.get_sample_size(FORMAT))\n",
    "obj.setframerate(RATE)\n",
    "obj.writeframes(b''.join(frames))\n",
    "obj.close()\n",
    "\n",
    "\n",
    "file = wave.open('record_1000.wav', 'rb')\n",
    "\n",
    "sample_freq = file.getframerate()\n",
    "frames = file.getnframes()\n",
    "signal_wave = file.readframes(-1)\n",
    "\n",
    "file.close()\n",
    "\n",
    "time = frames / sample_freq\n",
    "stream.stop_stream()\n",
    "stream.close()\n",
    "pa.terminate()\n",
    "\n",
    "obj = wave.open('record_1000.wav', 'wb')\n",
    "obj.setnchannels(CHANNELS)\n",
    "obj.setsampwidth(pa.get_sample_size(FORMAT))\n",
    "obj.setframerate(RATE)\n",
    "obj.writeframes(b''.join(frames))\n",
    "obj.close()\n",
    "\n",
    "\n",
    "file = wave.open('record_1000.wav', 'rb')\n",
    "\n",
    "sample_freq = file.getframerate()\n",
    "frames = file.getnframes()\n",
    "signal_wave = file.readframes(-1)\n",
    "\n",
    "file.close()\n",
    "\n",
    "time = frames / sample_freq"
   ]
  },
  {
   "cell_type": "code",
   "execution_count": null,
   "id": "dc639d6b",
   "metadata": {},
   "outputs": [],
   "source": [
    "#Show Recorded Data\n",
    "\n",
    "audio_array = np.frombuffer(signal_wave, dtype=np.int16)\n",
    "\n",
    "times = np.linspace(0, time, num=frames)\n",
    "\n",
    "plt.figure(figsize=(15, 5))\n",
    "plt.plot(times, audio_array)\n",
    "plt.ylabel('Signal Wave')\n",
    "plt.xlabel('Time (s)')\n",
    "plt.xlim(0, time)\n",
    "plt.title('Recorded Heartbeats')\n",
    "plt.show()"
   ]
  },
  {
   "cell_type": "code",
   "execution_count": null,
   "id": "e4352ff7",
   "metadata": {},
   "outputs": [],
   "source": [
    "record_audio='file'\n",
    "\n",
    "y, sr = librosa.load(file_name, duration=4)\n",
    "mfccs = librosa.feature.mfcc(y=y, sr=sr, n_mfcc=40)\n",
    "\n",
    "mfccs= mfccs.reshape(1,-1)\n",
    "\n",
    "predicted_label=np.argmax(model.predict(mfccs),axis=1)\n",
    "print(predicted_label)\n",
    "prediction_class = labelencoder.inverse_transform(predicted_label) \n",
    "prediction_class"
   ]
  }
 ],
 "metadata": {
  "kernelspec": {
   "display_name": "Python 3 (ipykernel)",
   "language": "python",
   "name": "python3"
  },
  "language_info": {
   "codemirror_mode": {
    "name": "ipython",
    "version": 3
   },
   "file_extension": ".py",
   "mimetype": "text/x-python",
   "name": "python",
   "nbconvert_exporter": "python",
   "pygments_lexer": "ipython3",
   "version": "3.9.13"
  }
 },
 "nbformat": 4,
 "nbformat_minor": 5
}
